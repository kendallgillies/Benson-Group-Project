{
 "cells": [
  {
   "cell_type": "markdown",
   "metadata": {},
   "source": [
    "# Project Benson\n",
    "\n",
    "## Exploring... and Aggregating"
   ]
  },
  {
   "cell_type": "code",
   "execution_count": 3,
   "metadata": {},
   "outputs": [],
   "source": [
    "import pandas as pd\n",
    "import numpy as np\n",
    "import scipy.stats as stats\n",
    "import matplotlib.pyplot as plt\n",
    "import statsmodels.api as sm\n",
    "import statsmodels\n",
    "import seaborn as sns\n",
    "from numpy import linalg\n",
    "\n",
    "import math\n",
    "import patsy\n",
    "\n",
    "from statsmodels.formula.api import ols\n",
    "\n",
    "%matplotlib inline"
   ]
  },
  {
   "cell_type": "code",
   "execution_count": 4,
   "metadata": {},
   "outputs": [
    {
     "name": "stdout",
     "output_type": "stream",
     "text": [
      "Python 3.6.3 :: Anaconda custom (64-bit)\r\n"
     ]
    }
   ],
   "source": [
    "!python -V"
   ]
  },
  {
   "cell_type": "code",
   "execution_count": 5,
   "metadata": {},
   "outputs": [
    {
     "name": "stdout",
     "output_type": "stream",
     "text": [
      "Pandas version: 0.20.3\n",
      "Numpy version: 1.13.3\n"
     ]
    }
   ],
   "source": [
    "print(\"Pandas version:\",pd.__version__)\n",
    "print(\"Numpy version:\",np.__version__)"
   ]
  },
  {
   "cell_type": "markdown",
   "metadata": {},
   "source": [
    "## Pick a week and play..."
   ]
  },
  {
   "cell_type": "code",
   "execution_count": 22,
   "metadata": {},
   "outputs": [],
   "source": [
    "week = '170422' # Week of 2017, April 15\n",
    "datafile = 'turnstile_%s.txt' % week\n",
    "url = 'http://web.mta.info/developers/data/nyct/turnstile/%s' % datafile\n",
    "\n",
    "# Specify location to store dataframes\n",
    "#mydir = '/home/joseph/ds/Projects/Project_Benson/Data'\n",
    "mydir =\n",
    "\n",
    "df_pickle = '%s/turnstile_%s.pkl' % (mydir,week)\n",
    "hourly_pickle = '%s/turnstile_%s_hourly.pkl' % (mydir,week)"
   ]
  },
  {
   "cell_type": "markdown",
   "metadata": {},
   "source": [
    "## Data input\n",
    "\n",
    "I start with the data off the MTA site.  I want a DateTime column immediately."
   ]
  },
  {
   "cell_type": "code",
   "execution_count": 8,
   "metadata": {},
   "outputs": [],
   "source": [
    "df = pd.read_csv(url, parse_dates = [['DATE','TIME']])\n",
    "\n",
    "# If we're just reading this in from the MTA site, we should do this correction now\n",
    "# Comment this out otherwise\n",
    "df.columns.values[-1] = 'EXITS'\n"
   ]
  },
  {
   "cell_type": "markdown",
   "metadata": {},
   "source": [
    "Or, if desired, read in previous work..."
   ]
  },
  {
   "cell_type": "code",
   "execution_count": 9,
   "metadata": {
    "collapsed": true
   },
   "outputs": [],
   "source": [
    "#df = pd.read_pickle(df_pickle, compression='gzip')\n",
    "#hourly = pd.read_pickle(hourly_pickle, compression='gzip')"
   ]
  },
  {
   "cell_type": "markdown",
   "metadata": {},
   "source": [
    "## Data Processing"
   ]
  },
  {
   "cell_type": "code",
   "execution_count": 10,
   "metadata": {
    "collapsed": true
   },
   "outputs": [],
   "source": [
    "df.set_index(['UNIT','SCP','STATION','DATE_TIME'], inplace=True)"
   ]
  },
  {
   "cell_type": "code",
   "execution_count": 11,
   "metadata": {
    "collapsed": true
   },
   "outputs": [],
   "source": [
    "def resampler(x):\n",
    "    \"\"\" A function to resample time series data - to be used in groupby apply.\"\"\"\n",
    "    return (x.set_index('DATE_TIME')       # Resample based on our timestamp\n",
    "            .resample('1H')                # Set the desired time period here\n",
    "            .mean()                        # The aggregate function used to create the new sampled rows.\n",
    "            .interpolate()                 # With the new rows, use interpolate to create the data\n",
    "            .diff()                        # Now, use diff to create deltas\n",
    "           )"
   ]
  },
  {
   "cell_type": "markdown",
   "metadata": {},
   "source": [
    "The raw data represents a pattern of polling the turnstiles on a 4-hour period.\n",
    "\n",
    "So, setting the time period for resampling to 1 hour may permmit further data analysis on an hourly basis but with the introduction of errors since we don't truly have that granularity.  Setting the time period greater than 4 hours\n",
    "drops data because the first in the series is set to N/A with the diff."
   ]
  },
  {
   "cell_type": "code",
   "execution_count": 12,
   "metadata": {
    "collapsed": true
   },
   "outputs": [],
   "source": [
    "hourly = (df.reset_index(level=3)\n",
    " .groupby(level=[0,1,2])\n",
    " .apply(resampler)\n",
    ")"
   ]
  },
  {
   "cell_type": "markdown",
   "metadata": {},
   "source": [
    "## Data Cleaning"
   ]
  },
  {
   "cell_type": "code",
   "execution_count": 13,
   "metadata": {
    "collapsed": true
   },
   "outputs": [],
   "source": [
    "# The diff opeation created N/A entries.  Let's set those to zero.\n",
    "hourly.fillna(0,inplace=True)"
   ]
  },
  {
   "cell_type": "markdown",
   "metadata": {},
   "source": [
    "We know we need to clean or drop the \"leftover\" rows from the diff operation.\n",
    "\n",
    "Things that remain:\n",
    "* Some turnstiles are actually counting backwards, believe it or not.  So we'll use *abs* to correct that.\n",
    "* When turnstiles roll over or are reset, these create enormous anomalous values after diff.  This is low frequency (way less than 1%), so let's just set those to zero."
   ]
  },
  {
   "cell_type": "code",
   "execution_count": 14,
   "metadata": {},
   "outputs": [],
   "source": [
    "# There remain anomalies from a variety of causes.  Let's clean things up...\n",
    "cleanitup = lambda x: abs(x) if abs(x) < 1000 else 0\n",
    "hourly[\"ENTRIES\"] = hourly[\"ENTRIES\"].map(cleanitup)\n",
    "hourly[\"EXITS\"] = hourly[\"EXITS\"].map(cleanitup)"
   ]
  },
  {
   "cell_type": "markdown",
   "metadata": {},
   "source": [
    "## Data Aggregation"
   ]
  },
  {
   "cell_type": "code",
   "execution_count": 15,
   "metadata": {
    "collapsed": true
   },
   "outputs": [],
   "source": [
    "weekly_aggregate = hourly.groupby('STATION').sum()"
   ]
  },
  {
   "cell_type": "code",
   "execution_count": 16,
   "metadata": {
    "collapsed": true
   },
   "outputs": [],
   "source": [
    "weekly_aggregate['TOTAL'] = weekly_aggregate['ENTRIES'] + weekly_aggregate['EXITS']"
   ]
  },
  {
   "cell_type": "code",
   "execution_count": 17,
   "metadata": {},
   "outputs": [
    {
     "name": "stdout",
     "output_type": "stream",
     "text": [
      "                  ENTRIES     EXITS      TOTAL\n",
      "STATION                                       \n",
      "34 ST-PENN STA   975276.5  819934.5  1795211.0\n",
      "GRD CNTRL-42 ST  873820.0  767634.0  1641454.0\n",
      "34 ST-HERALD SQ  781894.0  685535.0  1467429.0\n",
      "23 ST            714458.0  528202.0  1242660.0\n",
      "TIMES SQ-42 ST   631281.0  591907.0  1223188.0\n",
      "14 ST-UNION SQ   648214.0  563431.0  1211645.0\n",
      "42 ST-PORT AUTH  640614.0  442887.0  1083501.0\n",
      "86 ST            528811.0  449156.0   977967.0\n",
      "FULTON ST        539670.0  437482.0   977152.0\n",
      "125 ST           508231.0  375817.0   884048.0\n"
     ]
    }
   ],
   "source": [
    "print(weekly_aggregate.sort_values('TOTAL',ascending=False).head(10))"
   ]
  },
  {
   "cell_type": "markdown",
   "metadata": {},
   "source": [
    "Now, let's save our work..."
   ]
  },
  {
   "cell_type": "code",
   "execution_count": 23,
   "metadata": {},
   "outputs": [],
   "source": [
    "df.to_pickle(df_pickle, compression='gzip')\n",
    "hourly.to_pickle(hourly_pickle, compression='gzip')"
   ]
  },
  {
   "cell_type": "markdown",
   "metadata": {},
   "source": [
    "Yay!"
   ]
  }
 ],
 "metadata": {
  "kernelspec": {
   "display_name": "Python 3",
   "language": "python",
   "name": "python3"
  },
  "language_info": {
   "codemirror_mode": {
    "name": "ipython",
    "version": 3
   },
   "file_extension": ".py",
   "mimetype": "text/x-python",
   "name": "python",
   "nbconvert_exporter": "python",
   "pygments_lexer": "ipython3",
   "version": "3.6.3"
  }
 },
 "nbformat": 4,
 "nbformat_minor": 2
}
